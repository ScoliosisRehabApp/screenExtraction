{
 "cells": [
  {
   "cell_type": "code",
   "execution_count": 3,
   "metadata": {},
   "outputs": [
    {
     "ename": "KeyboardInterrupt",
     "evalue": "",
     "output_type": "error",
     "traceback": [
      "\u001b[1;31m---------------------------------------------------------------------------\u001b[0m",
      "\u001b[1;31mKeyboardInterrupt\u001b[0m                         Traceback (most recent call last)",
      "Cell \u001b[1;32mIn [3], line 76\u001b[0m\n\u001b[0;32m     72\u001b[0m     \u001b[39mreturn\u001b[39;00m np\u001b[39m.\u001b[39mfloat32([[\u001b[39m0\u001b[39m,\u001b[39m0\u001b[39m], [\u001b[39m0\u001b[39m,\u001b[39m0\u001b[39m], [\u001b[39m0\u001b[39m,\u001b[39m0\u001b[39m],[\u001b[39m0\u001b[39m,\u001b[39m0\u001b[39m]])\n\u001b[0;32m     74\u001b[0m \u001b[39mwhile\u001b[39;00m \u001b[39mTrue\u001b[39;00m:\n\u001b[0;32m     75\u001b[0m     \u001b[39m# success, img = cap.read()\u001b[39;00m\n\u001b[1;32m---> 76\u001b[0m     img \u001b[39m=\u001b[39m cv\u001b[39m.\u001b[39;49mimread(\u001b[39m'\u001b[39;49m\u001b[39mtest3\u001b[39;49m\u001b[39m'\u001b[39;49m\u001b[39m+\u001b[39;49m \u001b[39m'\u001b[39;49m\u001b[39m.jpg\u001b[39;49m\u001b[39m'\u001b[39;49m)\n\u001b[0;32m     77\u001b[0m     points \u001b[39m=\u001b[39m getPoints(img)\n\u001b[0;32m     78\u001b[0m     output \u001b[39m=\u001b[39m warpImage(img, points)\n",
      "\u001b[1;31mKeyboardInterrupt\u001b[0m: "
     ]
    }
   ],
   "source": [
    "import cv2 as cv\n",
    "import numpy as np\n",
    "\n",
    "#constants\n",
    "lookUpTable = np.empty((1,256), np.uint8)\n",
    "for i in range(256):\n",
    "    lookUpTable[0,i] = np.clip(pow(i / 255.0, 23/100) * 255.0, 0, 255)\n",
    "threshold1 = 50\n",
    "threshold2 = 225\n",
    "gamma = 23\n",
    "kernel1 = 4\n",
    "kernel2 = 3\n",
    "arcRatio = 0.08\n",
    "def empty(a):\n",
    "    pass\n",
    "# 0: top left, 1: top right, 2: bottom left, 3: bottom right\n",
    "def reorder (a):\n",
    "    b = np.zeros_like(a)\n",
    "    a = a.reshape((4,2))\n",
    "    add = a.sum(1)\n",
    "    b[0] = a[np.argmin(add)]\n",
    "    b[3] = a[np.argmax(add)]\n",
    "    diff = np.diff(a, axis = 1)\n",
    "    b[1] = a[np.argmin(diff)]\n",
    "    b[2] = a[np.argmax(diff)]\n",
    "    return b\n",
    "\n",
    "# tries to set the output image size with max_x - min_x, and max_y - min_y\n",
    "def size(a):\n",
    "    a = a.reshape((4,2))\n",
    "    max = np.argmax(a, axis=0) \n",
    "    min = np.argmin(a, axis=0)\n",
    "    return int(a[max[0]][0] - a[min[0]][0]), int(a[max[1]][1] - a[min[1]][1])\n",
    "\n",
    "# warps the image from given points\n",
    "def warpImage(img, pts1):\n",
    "    width, height = size(pts1)\n",
    "    pts2 = np.float32([[0,0], [width,0], [0,height],[width,height]])\n",
    "    M = cv.getPerspectiveTransform(pts1, pts2)\n",
    "    dst = cv.warpPerspective(img, M, (width,height))\n",
    "    return dst\n",
    "\n",
    "# gets the required points to be warped\n",
    "def getPoints(img):\n",
    "    frameHeight, frameWidth, channels = img.shape\n",
    "    calculatedArea = frameWidth*frameHeight\n",
    "    img = cv.GaussianBlur(img, (1,1),1)\n",
    "    img = cv.cvtColor(img, cv.COLOR_BGR2GRAY)\n",
    "    img = cv.LUT(img, lookUpTable)\n",
    "    img = cv.Canny(img, threshold1,threshold2)\n",
    "    img = cv.dilate(img, np.ones((kernel1,kernel1)), iterations = 2)\n",
    "    img = cv.erode(img, np.ones((kernel2,kernel2)), iterations = 2)\n",
    "    contours, hierarchy = cv.findContours(img, cv.RETR_TREE, cv.CHAIN_APPROX_NONE)\n",
    "    count = 0\n",
    "    for cnt in contours:\n",
    "        area = cv.contourArea(cnt)\n",
    "        peri = cv.arcLength(cnt, True)\n",
    "        approx = cv.approxPolyDP(cnt, arcRatio *peri, True)\n",
    "        if(area > calculatedArea*.25 and len(approx) == 4):\n",
    "            count = count +1\n",
    "            if (count == 1):\n",
    "                outCon = cnt\n",
    "            elif (area < cv.contourArea(outCon)):\n",
    "                outCon = cnt\n",
    "    if count > 0:\n",
    "        area = cv.contourArea(outCon)\n",
    "        peri = cv.arcLength(outCon, True)\n",
    "        approx = cv.approxPolyDP(outCon, arcRatio * peri, True)\n",
    "        approxReorder = reorder(approx)\n",
    "        pts1 = np.float32(approxReorder)\n",
    "        return pts1\n",
    "    return np.float32([[0,0], [0,0], [0,0],[0,0]])\n",
    "        \n",
    "while True:\n",
    "    # success, img = cap.read()\n",
    "    img = cv.imread('test3'+ '.jpg')\n",
    "    points = getPoints(img)\n",
    "    output = warpImage(img, points)\n",
    "    cv.imshow (\"original\", cv.resize(img, (0,0), None, .25, .25))\n",
    "    cv.imshow(\"output\", cv.resize(output, (0,0), None, .25, .25)) \n",
    "    if(cv.waitKey(1) & 0xFF == ord('q')):\n",
    "        cv.destroyAllWindows()\n",
    "        break\n",
    "\n"
   ]
  }
 ],
 "metadata": {
  "kernelspec": {
   "display_name": "Python 3.10.7 64-bit",
   "language": "python",
   "name": "python3"
  },
  "language_info": {
   "codemirror_mode": {
    "name": "ipython",
    "version": 3
   },
   "file_extension": ".py",
   "mimetype": "text/x-python",
   "name": "python",
   "nbconvert_exporter": "python",
   "pygments_lexer": "ipython3",
   "version": "3.10.7"
  },
  "orig_nbformat": 4,
  "vscode": {
   "interpreter": {
    "hash": "a648c5dca22fe9caf0a9553d3ab8fc8be2b99d6204bfc7a8a37b3dbe398766f3"
   }
  }
 },
 "nbformat": 4,
 "nbformat_minor": 2
}
